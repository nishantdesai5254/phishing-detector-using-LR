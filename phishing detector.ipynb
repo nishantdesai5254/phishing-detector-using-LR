{
 "cells": [
  {
   "cell_type": "code",
   "execution_count": 26,
   "metadata": {},
   "outputs": [],
   "source": [
    "import pandas as pd\n",
    "import matplotlib.pyplot as plt\n",
    "import numpy as np"
   ]
  },
  {
   "cell_type": "code",
   "execution_count": 2,
   "metadata": {},
   "outputs": [],
   "source": [
    "pdata=pd.read_csv('phishing.txt')"
   ]
  },
  {
   "cell_type": "code",
   "execution_count": 3,
   "metadata": {},
   "outputs": [],
   "source": [
    "X=pdata.iloc[:,:-1].values\n",
    "y=pdata.iloc[:,30].values"
   ]
  },
  {
   "cell_type": "code",
   "execution_count": 5,
   "metadata": {},
   "outputs": [],
   "source": [
    "from sklearn.model_selection import train_test_split\n",
    "X_train,X_test,y_train,y_test=train_test_split(X,y,test_size=0.3,\n",
    "                                              random_state=4)"
   ]
  },
  {
   "cell_type": "code",
   "execution_count": 6,
   "metadata": {},
   "outputs": [
    {
     "name": "stderr",
     "output_type": "stream",
     "text": [
      "C:\\Users\\DEVIL\\Anaconda3\\lib\\site-packages\\sklearn\\utils\\validation.py:475: DataConversionWarning: Data with input dtype int64 was converted to float64 by StandardScaler.\n",
      "  warnings.warn(msg, DataConversionWarning)\n"
     ]
    }
   ],
   "source": [
    "from sklearn.preprocessing import StandardScaler\n",
    "scalar=StandardScaler()\n",
    "X_train=scalar.fit_transform(X_train)\n",
    "X_test=scalar.fit_transform(X_test)"
   ]
  },
  {
   "cell_type": "code",
   "execution_count": 10,
   "metadata": {},
   "outputs": [
    {
     "data": {
      "text/plain": [
       "LogisticRegression(C=100, class_weight=None, dual=False, fit_intercept=True,\n",
       "          intercept_scaling=1, max_iter=100, multi_class='ovr', n_jobs=1,\n",
       "          penalty='l2', random_state=5, solver='liblinear', tol=0.0001,\n",
       "          verbose=0, warm_start=False)"
      ]
     },
     "execution_count": 10,
     "metadata": {},
     "output_type": "execute_result"
    }
   ],
   "source": [
    "#logistic regression classifier\n",
    "from sklearn.linear_model import LogisticRegression\n",
    "lrclr=LogisticRegression(C=100,random_state=5)\n",
    "lrclr.fit(X_train,y_train)"
   ]
  },
  {
   "cell_type": "code",
   "execution_count": 11,
   "metadata": {},
   "outputs": [],
   "source": [
    "lrpredict=lrclr.predict(X_test)"
   ]
  },
  {
   "cell_type": "code",
   "execution_count": 12,
   "metadata": {},
   "outputs": [
    {
     "name": "stdout",
     "output_type": "stream",
     "text": [
      "0.9298177588212485\n"
     ]
    }
   ],
   "source": [
    "print(lrclr.score(X_train,y_train))"
   ]
  },
  {
   "cell_type": "code",
   "execution_count": 14,
   "metadata": {},
   "outputs": [
    {
     "name": "stdout",
     "output_type": "stream",
     "text": [
      "0.9273439855290926\n"
     ]
    }
   ],
   "source": [
    "print(lrclr.score(X_test,y_test))"
   ]
  },
  {
   "cell_type": "code",
   "execution_count": 15,
   "metadata": {},
   "outputs": [],
   "source": [
    "#classify as features( parameter Prefix_Suffix and 13 URL_of_Anchor.) label as 5\n",
    "x1=pdata.iloc[0:5,[6,14]].values\n",
    "y1=pdata.iloc[0:5,30].values"
   ]
  },
  {
   "cell_type": "code",
   "execution_count": 17,
   "metadata": {},
   "outputs": [],
   "source": [
    "from sklearn.model_selection import train_test_split\n",
    "x1_train,x1_test,y1_train,y1_test=train_test_split(x1,y1,test_size=0.3,random_state=4)\n"
   ]
  },
  {
   "cell_type": "code",
   "execution_count": 19,
   "metadata": {},
   "outputs": [
    {
     "name": "stderr",
     "output_type": "stream",
     "text": [
      "C:\\Users\\DEVIL\\Anaconda3\\lib\\site-packages\\sklearn\\utils\\validation.py:475: DataConversionWarning: Data with input dtype int64 was converted to float64 by StandardScaler.\n",
      "  warnings.warn(msg, DataConversionWarning)\n"
     ]
    }
   ],
   "source": [
    "#feature scaling\n",
    "from sklearn.preprocessing import StandardScaler\n",
    "sc=StandardScaler()\n",
    "x1_train=sc.fit_transform(x1_train)\n",
    "x1_test=sc.fit_transform(x1_test)"
   ]
  },
  {
   "cell_type": "code",
   "execution_count": 20,
   "metadata": {},
   "outputs": [
    {
     "data": {
      "text/plain": [
       "LogisticRegression(C=100, class_weight=None, dual=False, fit_intercept=True,\n",
       "          intercept_scaling=1, max_iter=100, multi_class='ovr', n_jobs=1,\n",
       "          penalty='l2', random_state=0, solver='liblinear', tol=0.0001,\n",
       "          verbose=0, warm_start=False)"
      ]
     },
     "execution_count": 20,
     "metadata": {},
     "output_type": "execute_result"
    }
   ],
   "source": [
    "from sklearn.linear_model import LogisticRegression\n",
    "lrcl=LogisticRegression(C=100,random_state=0)\n",
    "lrcl.fit(x1_train,y1_train)"
   ]
  },
  {
   "cell_type": "code",
   "execution_count": 21,
   "metadata": {},
   "outputs": [],
   "source": [
    "lrprediction=lrcl.predict(x1_test)"
   ]
  },
  {
   "cell_type": "code",
   "execution_count": 22,
   "metadata": {
    "scrolled": true
   },
   "outputs": [
    {
     "name": "stdout",
     "output_type": "stream",
     "text": [
      "1.0\n",
      "1.0\n"
     ]
    }
   ],
   "source": [
    "print(lrcl.score(x1_train,y1_train))\n",
    "print(lrcl.score(x1_test,y1_test))"
   ]
  },
  {
   "cell_type": "code",
   "execution_count": 24,
   "metadata": {},
   "outputs": [],
   "source": [
    "#misclassified samples in the test data\n",
    "from sklearn.metrics import confusion_matrix\n",
    "lrconfuse1=confusion_matrix(y1_test,lrprediction)"
   ]
  },
  {
   "cell_type": "code",
   "execution_count": 29,
   "metadata": {},
   "outputs": [
    {
     "name": "stdout",
     "output_type": "stream",
     "text": [
      "[[8.12989106e-11 8.17055455e-11 8.21142142e-11 ... 1.17595783e-08\n",
      "  1.18183965e-08 1.18775089e-08]\n",
      " [8.44905622e-11 8.49131608e-11 8.53378731e-11 ... 1.22212386e-08\n",
      "  1.22823659e-08 1.23437989e-08]\n",
      " [8.78075123e-11 8.82467013e-11 8.86880871e-11 ... 1.27010228e-08\n",
      "  1.27645498e-08 1.28283946e-08]\n",
      " ...\n",
      " [9.99999739e-01 9.99999740e-01 9.99999742e-01 ... 9.99999998e-01\n",
      "  9.99999998e-01 9.99999998e-01]\n",
      " [9.99999749e-01 9.99999750e-01 9.99999751e-01 ... 9.99999998e-01\n",
      "  9.99999998e-01 9.99999998e-01]\n",
      " [9.99999758e-01 9.99999760e-01 9.99999761e-01 ... 9.99999998e-01\n",
      "  9.99999998e-01 9.99999998e-01]]\n"
     ]
    }
   ],
   "source": [
    "#visualize the test set\n",
    "xx,yy=np.mgrid[-5:5:.01,-5:5:.01]\n",
    "grid=np.c_[xx.ravel(),yy.ravel()]\n",
    "probs=lrcl.predict_proba(grid)[:,1].reshape(xx.shape)\n",
    "print(probs)"
   ]
  },
  {
   "cell_type": "code",
   "execution_count": 33,
   "metadata": {
    "scrolled": false
   },
   "outputs": [
    {
     "data": {
      "image/png": "[encoded data removed]",
      "text/plain": [
       "<Figure size 576x432 with 2 Axes>"
      ]
     },
     "metadata": {},
     "output_type": "display_data"
    }
   ],
   "source": [
    "f,ax=plt.subplots(figsize=(8,6))\n",
    "contour=ax.contourf(xx,yy,probs,25,cmap=\"RdBu\",vmin=0,vmax=1)\n",
    "ax_c=f.colorbar(contour)\n",
    "ax_c.set_label(\"$P(y=1)$\")\n",
    "ax_c.set_ticks([[0,0.25,0.5,0.75,1]])\n",
    "\n",
    "ax.scatter(x1_test[:,0],x1_test[:,1],c=(y1_test==1),s=50,\n",
    "          cmap=\"RdBu\",vmin=-1.2,vmax=-1.2,edgecolor=\"white\",linewidth=1)\n",
    "\n",
    "ax.set(aspect='equal',xlim=(-5,5),ylim=(-5,5),\n",
    "      xlabel=\"$X_1#\",ylabel=\"$X_2$\")\n",
    "plt.show()"
   ]
  },
  {
   "cell_type": "code",
   "execution_count": 37,
   "metadata": {},
   "outputs": [],
   "source": [
    "#classify as features( parameter Prefix_Suffix and 13 URL_of_Anchor.) label as 13\n",
    "x2=pdata.iloc[0:13,[6,14]].values\n",
    "y2=pdata.iloc[0:13,30].values"
   ]
  },
  {
   "cell_type": "code",
   "execution_count": 38,
   "metadata": {},
   "outputs": [
    {
     "name": "stderr",
     "output_type": "stream",
     "text": [
      "C:\\Users\\DEVIL\\Anaconda3\\lib\\site-packages\\sklearn\\utils\\validation.py:475: DataConversionWarning: Data with input dtype int64 was converted to float64 by StandardScaler.\n",
      "  warnings.warn(msg, DataConversionWarning)\n"
     ]
    }
   ],
   "source": [
    "from sklearn.model_selection import train_test_split\n",
    "x2_train,x2_test,y2_train,y2_test=train_test_split(x2,y2,test_size=0.3,random_state=4)\n",
    "\n",
    "\n",
    "#feature scaling\n",
    "from sklearn.preprocessing import StandardScaler\n",
    "sc=StandardScaler()\n",
    "x2_train=sc.fit_transform(x2_train)\n",
    "x2_test=sc.fit_transform(x2_test)"
   ]
  },
  {
   "cell_type": "code",
   "execution_count": 40,
   "metadata": {},
   "outputs": [
    {
     "data": {
      "text/plain": [
       "LogisticRegression(C=100, class_weight=None, dual=False, fit_intercept=True,\n",
       "          intercept_scaling=1, max_iter=100, multi_class='ovr', n_jobs=1,\n",
       "          penalty='l2', random_state=0, solver='liblinear', tol=0.0001,\n",
       "          verbose=0, warm_start=False)"
      ]
     },
     "execution_count": 40,
     "metadata": {},
     "output_type": "execute_result"
    }
   ],
   "source": [
    "from sklearn.linear_model import LogisticRegression\n",
    "lr2=LogisticRegression(C=100,random_state=0)\n",
    "lr2.fit(x1_train,y1_train)"
   ]
  },
  {
   "cell_type": "code",
   "execution_count": 41,
   "metadata": {},
   "outputs": [],
   "source": [
    "lrprediction2=lr2.predict(x2_test)"
   ]
  },
  {
   "cell_type": "code",
   "execution_count": 42,
   "metadata": {},
   "outputs": [
    {
     "name": "stdout",
     "output_type": "stream",
     "text": [
      "0.6666666666666666\n",
      "1.0\n"
     ]
    }
   ],
   "source": [
    "print(lr2.score(x2_train,y2_train))\n",
    "print(lr2.score(x2_test,y2_test))"
   ]
  },
  {
   "cell_type": "code",
   "execution_count": 44,
   "metadata": {},
   "outputs": [],
   "source": [
    "#misclassified samples in the test data\n",
    "from sklearn.metrics import confusion_matrix\n",
    "lrconfuse2=confusion_matrix(y2_test,lrprediction2)"
   ]
  },
  {
   "cell_type": "code",
   "execution_count": 45,
   "metadata": {},
   "outputs": [
    {
     "name": "stdout",
     "output_type": "stream",
     "text": [
      "[[8.12989106e-11 8.17055455e-11 8.21142142e-11 ... 1.17595783e-08\n",
      "  1.18183965e-08 1.18775089e-08]\n",
      " [8.44905622e-11 8.49131608e-11 8.53378731e-11 ... 1.22212386e-08\n",
      "  1.22823659e-08 1.23437989e-08]\n",
      " [8.78075123e-11 8.82467013e-11 8.86880871e-11 ... 1.27010228e-08\n",
      "  1.27645498e-08 1.28283946e-08]\n",
      " ...\n",
      " [9.99999739e-01 9.99999740e-01 9.99999742e-01 ... 9.99999998e-01\n",
      "  9.99999998e-01 9.99999998e-01]\n",
      " [9.99999749e-01 9.99999750e-01 9.99999751e-01 ... 9.99999998e-01\n",
      "  9.99999998e-01 9.99999998e-01]\n",
      " [9.99999758e-01 9.99999760e-01 9.99999761e-01 ... 9.99999998e-01\n",
      "  9.99999998e-01 9.99999998e-01]]\n"
     ]
    }
   ],
   "source": [
    "#visualize the test set\n",
    "xx1,yy1=np.mgrid[-5:5:.01,-5:5:.01]\n",
    "grid=np.c_[xx1.ravel(),yy1.ravel()]\n",
    "probs2=lrcl.predict_proba(grid)[:,1].reshape(xx1.shape)\n",
    "print(probs2)"
   ]
  },
  {
   "cell_type": "code",
   "execution_count": 46,
   "metadata": {},
   "outputs": [
    {
     "data": {
      "image/png": "[encoded data removed]",
      "text/plain": [
       "<Figure size 576x432 with 2 Axes>"
      ]
     },
     "metadata": {},
     "output_type": "display_data"
    }
   ],
   "source": [
    "f1,ax1=plt.subplots(figsize=(8,6))\n",
    "contour1=ax1.contourf(xx1,yy1,probs,25,cmap=\"RdBu\",vmin=0,vmax=1)\n",
    "ax_c1=f1.colorbar(contour1)\n",
    "ax_c1.set_label(\"$P(y=1)$\")\n",
    "ax_c1.set_ticks([[0,0.25,0.5,0.75,1]])\n",
    "\n",
    "ax1.scatter(x2_test[:,0],x2_test[:,1],c=(y2_test==1),s=50,\n",
    "          cmap=\"RdBu\",vmin=-1.2,vmax=-1.2,edgecolor=\"white\",linewidth=1)\n",
    "\n",
    "ax1.set(aspect='equal',xlim=(-5,5),ylim=(-5,5),\n",
    "      xlabel=\"$X_1#\",ylabel=\"$X_2$\")\n",
    "plt.show()"
   ]
  },
  {
   "cell_type": "code",
   "execution_count": null,
   "metadata": {},
   "outputs": [],
   "source": []
  }
 ],
 "metadata": {
  "kernelspec": {
   "display_name": "Python 3",
   "language": "python",
   "name": "python3"
  },
  "language_info": {
   "codemirror_mode": {
    "name": "ipython",
    "version": 3
   },
   "file_extension": ".py",
   "mimetype": "text/x-python",
   "name": "python",
   "nbconvert_exporter": "python",
   "pygments_lexer": "ipython3",
   "version": "3.6.5"
  }
 },
 "nbformat": 4,
 "nbformat_minor": 2
}
